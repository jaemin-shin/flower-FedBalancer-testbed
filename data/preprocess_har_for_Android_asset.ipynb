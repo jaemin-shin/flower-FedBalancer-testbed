{
 "cells": [
  {
   "cell_type": "code",
   "execution_count": 88,
   "metadata": {},
   "outputs": [],
   "source": [
    "import json\n",
    "import os\n",
    "import tensorflow as tf\n",
    "import numpy as np\n",
    "\n",
    "import idx2numpy"
   ]
  },
  {
   "cell_type": "code",
   "execution_count": 63,
   "metadata": {},
   "outputs": [],
   "source": [
    "trn_f = open('/mnt/sting/jmshin/FedBalancer/FLASH_jm/data/har/data/train/train_har.json')\n",
    "tst_f = open('/mnt/sting/jmshin/FedBalancer/FLASH_jm/data/har/data/test/test_har.json')\n",
    "\n",
    "trn = json.load(trn_f)\n",
    "tst = json.load(tst_f)"
   ]
  },
  {
   "cell_type": "markdown",
   "metadata": {},
   "source": [
    "# train data generation"
   ]
  },
  {
   "cell_type": "code",
   "execution_count": 32,
   "metadata": {},
   "outputs": [
    {
     "data": {
      "text/plain": [
       "0"
      ]
     },
     "execution_count": 32,
     "metadata": {},
     "output_type": "execute_result"
    }
   ],
   "source": [
    "os.system('mkdir /home/jmshin/FedBalancer_realexperiment/dataprocess/har/train/0')\n",
    "os.system('mkdir /home/jmshin/FedBalancer_realexperiment/dataprocess/har/train/1')\n",
    "os.system('mkdir /home/jmshin/FedBalancer_realexperiment/dataprocess/har/train/2')\n",
    "os.system('mkdir /home/jmshin/FedBalancer_realexperiment/dataprocess/har/train/3')\n",
    "os.system('mkdir /home/jmshin/FedBalancer_realexperiment/dataprocess/har/train/4')\n",
    "os.system('mkdir /home/jmshin/FedBalancer_realexperiment/dataprocess/har/train/5')"
   ]
  },
  {
   "cell_type": "code",
   "execution_count": 34,
   "metadata": {},
   "outputs": [],
   "source": [
    "for user_idx, trn_user in enumerate(trn['users']):\n",
    "    user_samples_location_text = []\n",
    "    for sample_idx in range(len(trn['user_data'][trn_user]['x'])):\n",
    "        sample_data = trn['user_data'][trn_user]['x'][sample_idx]\n",
    "        sample_label = trn['user_data'][trn_user]['y'][sample_idx]\n",
    "        with open(\"/home/jmshin/FedBalancer_realexperiment/dataprocess/har/train/\"+str(sample_label)+\"/user\"+str(user_idx)+\"_sample\"+str(sample_idx)+\".txt\",\"w\") as f:\n",
    "            f.write(\",\".join(str(x) for x in sample_data))\n",
    "            f.close()\n",
    "        user_samples_location_text.append(\"har/train/\"+str(sample_label)+\"/user\"+str(user_idx)+\"_sample\"+str(sample_idx)+\".txt\")\n",
    "    with open(\"/home/jmshin/FedBalancer_realexperiment/dataprocess/har/user\"+str(user_idx)+\"_train.txt\",\"w\") as f:\n",
    "            f.write('\\n'.join(user_samples_location_text))\n",
    "            f.close()"
   ]
  },
  {
   "cell_type": "markdown",
   "metadata": {},
   "source": [
    "# test data generation"
   ]
  },
  {
   "cell_type": "code",
   "execution_count": 36,
   "metadata": {},
   "outputs": [
    {
     "name": "stdout",
     "output_type": "stream",
     "text": [
      "Downloading data from https://www.cs.toronto.edu/~kriz/cifar-10-python.tar.gz\n",
      "170500096/170498071 [==============================] - 23s 0us/step\n",
      "170508288/170498071 [==============================] - 23s 0us/step\n"
     ]
    }
   ],
   "source": [
    "(x_train, y_train), _ = tf.keras.datasets.cifar10.load_data()"
   ]
  },
  {
   "cell_type": "code",
   "execution_count": 55,
   "metadata": {},
   "outputs": [
    {
     "data": {
      "text/plain": [
       "((50000, 32, 32, 3), numpy.ndarray)"
      ]
     },
     "execution_count": 55,
     "metadata": {},
     "output_type": "execute_result"
    }
   ],
   "source": [
    "x_train.shape, type(x_train)"
   ]
  },
  {
   "cell_type": "code",
   "execution_count": 56,
   "metadata": {},
   "outputs": [
    {
     "data": {
      "text/plain": [
       "((50000, 1), numpy.ndarray)"
      ]
     },
     "execution_count": 56,
     "metadata": {},
     "output_type": "execute_result"
    }
   ],
   "source": [
    "y_train.shape, type(y_train)"
   ]
  },
  {
   "cell_type": "code",
   "execution_count": 51,
   "metadata": {},
   "outputs": [],
   "source": [
    "y_test = np.array(tst['user_data']['testuser_1']['y']).reshape(-1,1)"
   ]
  },
  {
   "cell_type": "code",
   "execution_count": 62,
   "metadata": {},
   "outputs": [],
   "source": [
    "x_test = np.array(tst['user_data']['testuser_1']['x'])\n",
    "y_test = np.array(tst['user_data']['testuser_1']['y']).reshape(-1,1)"
   ]
  },
  {
   "cell_type": "code",
   "execution_count": 63,
   "metadata": {},
   "outputs": [
    {
     "data": {
      "text/plain": [
       "((2947, 561), numpy.ndarray)"
      ]
     },
     "execution_count": 63,
     "metadata": {},
     "output_type": "execute_result"
    }
   ],
   "source": [
    "x_test.shape, type(x_test)"
   ]
  },
  {
   "cell_type": "code",
   "execution_count": 64,
   "metadata": {},
   "outputs": [
    {
     "data": {
      "text/plain": [
       "((2947, 1), numpy.ndarray)"
      ]
     },
     "execution_count": 64,
     "metadata": {},
     "output_type": "execute_result"
    }
   ],
   "source": [
    "y_test.shape, type(y_test)"
   ]
  },
  {
   "cell_type": "code",
   "execution_count": 61,
   "metadata": {},
   "outputs": [
    {
     "data": {
      "text/plain": [
       "(2947, 561)"
      ]
     },
     "execution_count": 61,
     "metadata": {},
     "output_type": "execute_result"
    }
   ],
   "source": [
    "y_test"
   ]
  },
  {
   "cell_type": "code",
   "execution_count": 53,
   "metadata": {},
   "outputs": [
    {
     "data": {
      "text/plain": [
       "(2947, 561)"
      ]
     },
     "execution_count": 53,
     "metadata": {},
     "output_type": "execute_result"
    }
   ],
   "source": [
    "np.array(tst['user_data']['testuser_1']['x']).shape"
   ]
  },
  {
   "cell_type": "code",
   "execution_count": 7,
   "metadata": {},
   "outputs": [
    {
     "data": {
      "text/plain": [
       "[347,\n",
       " 341,\n",
       " 302,\n",
       " 325,\n",
       " 308,\n",
       " 281,\n",
       " 316,\n",
       " 323,\n",
       " 328,\n",
       " 366,\n",
       " 368,\n",
       " 360,\n",
       " 408,\n",
       " 321,\n",
       " 372,\n",
       " 409,\n",
       " 392,\n",
       " 376,\n",
       " 382,\n",
       " 344,\n",
       " 383]"
      ]
     },
     "execution_count": 7,
     "metadata": {},
     "output_type": "execute_result"
    }
   ],
   "source": [
    "trn['num_samples']"
   ]
  },
  {
   "cell_type": "code",
   "execution_count": 97,
   "metadata": {},
   "outputs": [
    {
     "data": {
      "text/plain": [
       "382.0"
      ]
     },
     "execution_count": 97,
     "metadata": {},
     "output_type": "execute_result"
    }
   ],
   "source": [
    "np.percentile(np.array(trn['num_samples']), 80)"
   ]
  },
  {
   "cell_type": "code",
   "execution_count": 9,
   "metadata": {},
   "outputs": [
    {
     "data": {
      "text/plain": [
       "dict_keys(['1', '3', '5', '6', '7', '8', '11', '14', '15', '16', '17', '19', '21', '22', '23', '25', '26', '27', '28', '29', '30'])"
      ]
     },
     "execution_count": 9,
     "metadata": {},
     "output_type": "execute_result"
    }
   ],
   "source": [
    "trn['user_data'].keys()"
   ]
  },
  {
   "cell_type": "code",
   "execution_count": 15,
   "metadata": {},
   "outputs": [
    {
     "data": {
      "text/plain": [
       "[0.28858451,\n",
       " -0.020294171,\n",
       " -0.13290514,\n",
       " -0.9952786,\n",
       " -0.98311061,\n",
       " -0.91352645,\n",
       " -0.99511208,\n",
       " -0.98318457,\n",
       " -0.92352702,\n",
       " -0.93472378,\n",
       " -0.56737807,\n",
       " -0.74441253,\n",
       " 0.85294738,\n",
       " 0.68584458,\n",
       " 0.81426278,\n",
       " -0.96552279,\n",
       " -0.99994465,\n",
       " -0.99986303,\n",
       " -0.99461218,\n",
       " -0.99423081,\n",
       " -0.98761392,\n",
       " -0.94321999,\n",
       " -0.40774707,\n",
       " -0.67933751,\n",
       " -0.60212187,\n",
       " 0.92929351,\n",
       " -0.85301114,\n",
       " 0.35990976,\n",
       " -0.058526382,\n",
       " 0.25689154,\n",
       " -0.22484763,\n",
       " 0.26410572,\n",
       " -0.09524563,\n",
       " 0.27885143,\n",
       " -0.46508457,\n",
       " 0.49193596,\n",
       " -0.19088356,\n",
       " 0.37631389,\n",
       " 0.43512919,\n",
       " 0.66079033,\n",
       " 0.96339614,\n",
       " -0.14083968,\n",
       " 0.11537494,\n",
       " -0.98524969,\n",
       " -0.98170843,\n",
       " -0.87762497,\n",
       " -0.98500137,\n",
       " -0.98441622,\n",
       " -0.89467735,\n",
       " 0.89205451,\n",
       " -0.16126549,\n",
       " 0.12465977,\n",
       " 0.97743631,\n",
       " -0.12321341,\n",
       " 0.056482734,\n",
       " -0.37542596,\n",
       " 0.89946864,\n",
       " -0.97090521,\n",
       " -0.97551037,\n",
       " -0.98432539,\n",
       " -0.98884915,\n",
       " -0.91774264,\n",
       " -1.0,\n",
       " -1.0,\n",
       " 0.11380614,\n",
       " -0.590425,\n",
       " 0.5911463,\n",
       " -0.59177346,\n",
       " 0.59246928,\n",
       " -0.74544878,\n",
       " 0.72086167,\n",
       " -0.71237239,\n",
       " 0.71130003,\n",
       " -0.99511159,\n",
       " 0.99567491,\n",
       " -0.99566759,\n",
       " 0.99165268,\n",
       " 0.57022164,\n",
       " 0.43902735,\n",
       " 0.98691312,\n",
       " 0.077996345,\n",
       " 0.0050008031,\n",
       " -0.067830808,\n",
       " -0.99351906,\n",
       " -0.98835999,\n",
       " -0.99357497,\n",
       " -0.99448763,\n",
       " -0.98620664,\n",
       " -0.99281835,\n",
       " -0.9851801,\n",
       " -0.99199423,\n",
       " -0.99311887,\n",
       " 0.98983471,\n",
       " 0.99195686,\n",
       " 0.9905192,\n",
       " -0.99352201,\n",
       " -0.99993487,\n",
       " -0.99982045,\n",
       " -0.99987846,\n",
       " -0.99436404,\n",
       " -0.98602487,\n",
       " -0.98923361,\n",
       " -0.81994925,\n",
       " -0.79304645,\n",
       " -0.88885295,\n",
       " 1.0,\n",
       " -0.22074703,\n",
       " 0.63683075,\n",
       " 0.38764356,\n",
       " 0.24140146,\n",
       " -0.052252848,\n",
       " 0.2641772,\n",
       " 0.37343945,\n",
       " 0.34177752,\n",
       " -0.56979119,\n",
       " 0.26539882,\n",
       " -0.47787489,\n",
       " -0.3853005,\n",
       " 0.033643943,\n",
       " -0.12651082,\n",
       " -0.0061008489,\n",
       " -0.031364791,\n",
       " 0.1077254,\n",
       " -0.98531027,\n",
       " -0.97662344,\n",
       " -0.99220528,\n",
       " -0.98458626,\n",
       " -0.97635262,\n",
       " -0.99236164,\n",
       " -0.86704374,\n",
       " -0.93378602,\n",
       " -0.74756618,\n",
       " 0.84730796,\n",
       " 0.91489534,\n",
       " 0.83084054,\n",
       " -0.96718428,\n",
       " -0.99957831,\n",
       " -0.99935432,\n",
       " -0.99976339,\n",
       " -0.98343808,\n",
       " -0.97861401,\n",
       " -0.99296558,\n",
       " 0.082631682,\n",
       " 0.20226765,\n",
       " -0.16875669,\n",
       " 0.096323236,\n",
       " -0.27498511,\n",
       " 0.49864419,\n",
       " -0.22031685,\n",
       " 1.0,\n",
       " -0.97297139,\n",
       " 0.31665451,\n",
       " 0.37572641,\n",
       " 0.72339919,\n",
       " -0.77111201,\n",
       " 0.69021323,\n",
       " -0.33183104,\n",
       " 0.70958377,\n",
       " 0.13487336,\n",
       " 0.30109948,\n",
       " -0.0991674,\n",
       " -0.055517369,\n",
       " -0.061985797,\n",
       " -0.99211067,\n",
       " -0.99251927,\n",
       " -0.99205528,\n",
       " -0.99216475,\n",
       " -0.99494156,\n",
       " -0.99261905,\n",
       " -0.99015585,\n",
       " -0.98674277,\n",
       " -0.99204155,\n",
       " 0.99442876,\n",
       " 0.99175581,\n",
       " 0.98935195,\n",
       " -0.99445335,\n",
       " -0.99993755,\n",
       " -0.9999535,\n",
       " -0.99992294,\n",
       " -0.99229974,\n",
       " -0.99693892,\n",
       " -0.99224298,\n",
       " -0.58985096,\n",
       " -0.68845905,\n",
       " -0.57210686,\n",
       " 0.29237634,\n",
       " -0.36199802,\n",
       " 0.40554269,\n",
       " -0.039006951,\n",
       " 0.98928381,\n",
       " -0.41456048,\n",
       " 0.39160251,\n",
       " 0.28225087,\n",
       " 0.92726984,\n",
       " -0.57237001,\n",
       " 0.6916192,\n",
       " 0.46828982,\n",
       " -0.13107697,\n",
       " -0.087159695,\n",
       " 0.33624748,\n",
       " -0.95943388,\n",
       " -0.9505515,\n",
       " -0.95799295,\n",
       " -0.94630524,\n",
       " -0.99255572,\n",
       " -0.95943388,\n",
       " -0.99849285,\n",
       " -0.9576374,\n",
       " -0.23258164,\n",
       " -0.17317874,\n",
       " -0.02289666,\n",
       " 0.094831568,\n",
       " 0.19181715,\n",
       " -0.95943388,\n",
       " -0.9505515,\n",
       " -0.95799295,\n",
       " -0.94630524,\n",
       " -0.99255572,\n",
       " -0.95943388,\n",
       " -0.99849285,\n",
       " -0.9576374,\n",
       " -0.23258164,\n",
       " -0.17317874,\n",
       " -0.02289666,\n",
       " 0.094831568,\n",
       " 0.19181715,\n",
       " -0.99330586,\n",
       " -0.99433641,\n",
       " -0.99450037,\n",
       " -0.99278399,\n",
       " -0.99120847,\n",
       " -0.99330586,\n",
       " -0.99989188,\n",
       " -0.9929337,\n",
       " -0.86341476,\n",
       " 0.28308522,\n",
       " -0.23730869,\n",
       " -0.10543219,\n",
       " -0.038212313,\n",
       " -0.96895908,\n",
       " -0.96433518,\n",
       " -0.95724477,\n",
       " -0.97505986,\n",
       " -0.99155366,\n",
       " -0.96895908,\n",
       " -0.99928646,\n",
       " -0.94976582,\n",
       " 0.072579035,\n",
       " 0.57251142,\n",
       " -0.73860219,\n",
       " 0.21257776,\n",
       " 0.43340495,\n",
       " -0.99424782,\n",
       " -0.99136761,\n",
       " -0.99314298,\n",
       " -0.98893563,\n",
       " -0.99348603,\n",
       " -0.99424782,\n",
       " -0.99994898,\n",
       " -0.99454718,\n",
       " -0.61976763,\n",
       " 0.29284049,\n",
       " -0.1768892,\n",
       " -0.14577921,\n",
       " -0.12407233,\n",
       " -0.99478319,\n",
       " -0.9829841,\n",
       " -0.93926865,\n",
       " -0.99542175,\n",
       " -0.98313297,\n",
       " -0.90616498,\n",
       " -0.99688864,\n",
       " -0.98451927,\n",
       " -0.932082,\n",
       " -0.99375634,\n",
       " -0.98316285,\n",
       " -0.88505422,\n",
       " -0.99396185,\n",
       " -0.99344611,\n",
       " -0.92342772,\n",
       " -0.97473271,\n",
       " -0.99996838,\n",
       " -0.99968911,\n",
       " -0.99489148,\n",
       " -0.99592602,\n",
       " -0.98970889,\n",
       " -0.98799115,\n",
       " -0.94635692,\n",
       " -0.90474776,\n",
       " -0.59130248,\n",
       " -1.0,\n",
       " -1.0,\n",
       " -1.0,\n",
       " 0.2524829,\n",
       " 0.13183575,\n",
       " -0.052050251,\n",
       " 0.14205056,\n",
       " -0.1506825,\n",
       " -0.22054694,\n",
       " -0.55873853,\n",
       " 0.24676868,\n",
       " -0.0074155206,\n",
       " -0.99996279,\n",
       " -0.9999865,\n",
       " -0.99997907,\n",
       " -0.99996244,\n",
       " -0.99993222,\n",
       " -0.99972512,\n",
       " -0.99967039,\n",
       " -0.99998582,\n",
       " -0.99996867,\n",
       " -0.99997686,\n",
       " -0.99986966,\n",
       " -0.99977613,\n",
       " -0.99997115,\n",
       " -0.99991925,\n",
       " -0.9996568,\n",
       " -0.99986046,\n",
       " -0.99986695,\n",
       " -0.99986301,\n",
       " -0.99973783,\n",
       " -0.9997322,\n",
       " -0.99949261,\n",
       " -0.99981364,\n",
       " -0.99968182,\n",
       " -0.9998394,\n",
       " -0.99973823,\n",
       " -0.99961197,\n",
       " -0.99968721,\n",
       " -0.99983863,\n",
       " -0.99359234,\n",
       " -0.99947584,\n",
       " -0.99966204,\n",
       " -0.9996423,\n",
       " -0.99929341,\n",
       " -0.99789222,\n",
       " -0.99593249,\n",
       " -0.99514642,\n",
       " -0.9947399,\n",
       " -0.99968826,\n",
       " -0.99892456,\n",
       " -0.99567134,\n",
       " -0.99487731,\n",
       " -0.99945439,\n",
       " -0.99233245,\n",
       " -0.98716991,\n",
       " -0.98969609,\n",
       " -0.99582068,\n",
       " -0.99093631,\n",
       " -0.99705167,\n",
       " -0.99380547,\n",
       " -0.99051869,\n",
       " -0.99699279,\n",
       " -0.99673689,\n",
       " -0.99197516,\n",
       " -0.99324167,\n",
       " -0.99834907,\n",
       " -0.99110842,\n",
       " -0.95988537,\n",
       " -0.99051499,\n",
       " -0.99993475,\n",
       " -0.99982048,\n",
       " -0.99988449,\n",
       " -0.99302626,\n",
       " -0.99137339,\n",
       " -0.99623962,\n",
       " -1.0,\n",
       " -1.0,\n",
       " -1.0,\n",
       " 1.0,\n",
       " -0.24,\n",
       " -1.0,\n",
       " 0.87038451,\n",
       " 0.210697,\n",
       " 0.26370789,\n",
       " -0.70368577,\n",
       " -0.90374251,\n",
       " -0.58257362,\n",
       " -0.93631005,\n",
       " -0.50734474,\n",
       " -0.80553591,\n",
       " -0.99998649,\n",
       " -0.9999796,\n",
       " -0.99997478,\n",
       " -0.99995513,\n",
       " -0.99991861,\n",
       " -0.99964011,\n",
       " -0.9994833,\n",
       " -0.99996087,\n",
       " -0.99998227,\n",
       " -0.99997072,\n",
       " -0.99981098,\n",
       " -0.99948472,\n",
       " -0.99998083,\n",
       " -0.99985189,\n",
       " -0.99993261,\n",
       " -0.99989993,\n",
       " -0.99982444,\n",
       " -0.99985982,\n",
       " -0.99972751,\n",
       " -0.99972876,\n",
       " -0.99956707,\n",
       " -0.99976524,\n",
       " -0.99990021,\n",
       " -0.9998149,\n",
       " -0.9997098,\n",
       " -0.99959608,\n",
       " -0.99985216,\n",
       " -0.9998221,\n",
       " -0.99939988,\n",
       " -0.99976559,\n",
       " -0.99995846,\n",
       " -0.99994951,\n",
       " -0.9998385,\n",
       " -0.99981351,\n",
       " -0.99878054,\n",
       " -0.99857783,\n",
       " -0.99961968,\n",
       " -0.99998359,\n",
       " -0.99982812,\n",
       " -0.99868068,\n",
       " -0.99984416,\n",
       " -0.99992792,\n",
       " -0.98657442,\n",
       " -0.98176153,\n",
       " -0.98951478,\n",
       " -0.98503264,\n",
       " -0.97388607,\n",
       " -0.99403493,\n",
       " -0.98653085,\n",
       " -0.98361636,\n",
       " -0.99235201,\n",
       " -0.98049843,\n",
       " -0.97227092,\n",
       " -0.99494426,\n",
       " -0.99756862,\n",
       " -0.9840851,\n",
       " -0.99433541,\n",
       " -0.98527621,\n",
       " -0.99986371,\n",
       " -0.99966608,\n",
       " -0.99993462,\n",
       " -0.99034389,\n",
       " -0.99483569,\n",
       " -0.99441158,\n",
       " -0.71240225,\n",
       " -0.64484236,\n",
       " -0.83899298,\n",
       " -1.0,\n",
       " -1.0,\n",
       " -1.0,\n",
       " -0.25754888,\n",
       " 0.097947109,\n",
       " 0.54715105,\n",
       " 0.37731121,\n",
       " 0.13409154,\n",
       " 0.27337197,\n",
       " -0.091261831,\n",
       " -0.4843465,\n",
       " -0.7828507,\n",
       " -0.99986502,\n",
       " -0.99993178,\n",
       " -0.99997295,\n",
       " -0.99997018,\n",
       " -0.99993012,\n",
       " -0.99995862,\n",
       " -0.99992899,\n",
       " -0.99998465,\n",
       " -0.99986326,\n",
       " -0.99996815,\n",
       " -0.9999361,\n",
       " -0.99995363,\n",
       " -0.99986442,\n",
       " -0.99996098,\n",
       " -0.99945373,\n",
       " -0.99997811,\n",
       " -0.99999153,\n",
       " -0.9999901,\n",
       " -0.99996857,\n",
       " -0.99980657,\n",
       " -0.998346,\n",
       " -0.99896122,\n",
       " -0.99961874,\n",
       " -0.99998934,\n",
       " -0.9999354,\n",
       " -0.99838752,\n",
       " -0.99964264,\n",
       " -0.99997266,\n",
       " -0.99995535,\n",
       " -0.9999763,\n",
       " -0.99990583,\n",
       " -0.9999855,\n",
       " -0.99993717,\n",
       " -0.99975115,\n",
       " -0.99907227,\n",
       " -0.99992754,\n",
       " -0.99995158,\n",
       " -0.99990585,\n",
       " -0.99989269,\n",
       " -0.99944433,\n",
       " -0.99994099,\n",
       " -0.99995861,\n",
       " -0.95215466,\n",
       " -0.95613397,\n",
       " -0.94887014,\n",
       " -0.97432057,\n",
       " -0.92572179,\n",
       " -0.95215466,\n",
       " -0.9982852,\n",
       " -0.9732732,\n",
       " -0.64637645,\n",
       " -0.79310345,\n",
       " -0.08843612,\n",
       " -0.43647104,\n",
       " -0.79684048,\n",
       " -0.99372565,\n",
       " -0.99375495,\n",
       " -0.9919757,\n",
       " -0.99336472,\n",
       " -0.98817543,\n",
       " -0.99372565,\n",
       " -0.99991844,\n",
       " -0.99136366,\n",
       " -1.0,\n",
       " -0.93650794,\n",
       " 0.34698853,\n",
       " -0.51608015,\n",
       " -0.80276003,\n",
       " -0.98013485,\n",
       " -0.96130944,\n",
       " -0.97365344,\n",
       " -0.95226383,\n",
       " -0.98949813,\n",
       " -0.98013485,\n",
       " -0.99924035,\n",
       " -0.99265553,\n",
       " -0.70129141,\n",
       " -1.0,\n",
       " -0.1289889,\n",
       " 0.58615643,\n",
       " 0.37460462,\n",
       " -0.99199044,\n",
       " -0.99069746,\n",
       " -0.98994084,\n",
       " -0.99244784,\n",
       " -0.99104773,\n",
       " -0.99199044,\n",
       " -0.99993676,\n",
       " -0.99045792,\n",
       " -0.8713058,\n",
       " -1.0,\n",
       " -0.074323027,\n",
       " -0.29867637,\n",
       " -0.71030407,\n",
       " -0.11275434,\n",
       " 0.030400372,\n",
       " -0.46476139,\n",
       " -0.018445884,\n",
       " -0.84124676,\n",
       " 0.17994061,\n",
       " -0.058626924]"
      ]
     },
     "execution_count": 15,
     "metadata": {},
     "output_type": "execute_result"
    }
   ],
   "source": [
    "trn['user_data']['1']['x'][0]"
   ]
  },
  {
   "cell_type": "markdown",
   "metadata": {},
   "source": [
    "# har_raw train data generation"
   ]
  },
  {
   "cell_type": "code",
   "execution_count": 89,
   "metadata": {},
   "outputs": [],
   "source": [
    "trn_f = open('/mnt/sting/jmshin/FedBalancer/FLASH_jm/data/har_raw/data/train/train_raw_har.json')\n",
    "tst_f = open('/mnt/sting/jmshin/FedBalancer/FLASH_jm/data/har_raw/data/test/test_raw_har.json')\n",
    "\n",
    "trn = json.load(trn_f)\n",
    "tst = json.load(tst_f)"
   ]
  },
  {
   "cell_type": "code",
   "execution_count": 91,
   "metadata": {},
   "outputs": [
    {
     "data": {
      "text/plain": [
       "1152"
      ]
     },
     "execution_count": 91,
     "metadata": {},
     "output_type": "execute_result"
    }
   ],
   "source": [
    "len(trn['user_data'][trn_user]['x'][0])"
   ]
  },
  {
   "cell_type": "code",
   "execution_count": 67,
   "metadata": {},
   "outputs": [
    {
     "data": {
      "text/plain": [
       "0"
      ]
     },
     "execution_count": 67,
     "metadata": {},
     "output_type": "execute_result"
    }
   ],
   "source": [
    "os.system('mkdir /home/jmshin/FedBalancer_realexperiment/dataprocess/har_raw/train/0')\n",
    "os.system('mkdir /home/jmshin/FedBalancer_realexperiment/dataprocess/har_raw/train/1')\n",
    "os.system('mkdir /home/jmshin/FedBalancer_realexperiment/dataprocess/har_raw/train/2')\n",
    "os.system('mkdir /home/jmshin/FedBalancer_realexperiment/dataprocess/har_raw/train/3')\n",
    "os.system('mkdir /home/jmshin/FedBalancer_realexperiment/dataprocess/har_raw/train/4')\n",
    "os.system('mkdir /home/jmshin/FedBalancer_realexperiment/dataprocess/har_raw/train/5')"
   ]
  },
  {
   "cell_type": "code",
   "execution_count": 68,
   "metadata": {},
   "outputs": [],
   "source": [
    "for user_idx, trn_user in enumerate(trn['users']):\n",
    "    user_samples_location_text = []\n",
    "    for sample_idx in range(len(trn['user_data'][trn_user]['x'])):\n",
    "        sample_data = trn['user_data'][trn_user]['x'][sample_idx]\n",
    "        sample_label = trn['user_data'][trn_user]['y'][sample_idx]\n",
    "        with open(\"/home/jmshin/FedBalancer_realexperiment/dataprocess/har_raw/train/\"+str(sample_label)+\"/user\"+str(user_idx)+\"_sample\"+str(sample_idx)+\".txt\",\"w\") as f:\n",
    "            f.write(\",\".join(str(x) for x in sample_data))\n",
    "            f.close()\n",
    "        user_samples_location_text.append(\"har_raw/train/\"+str(sample_label)+\"/user\"+str(user_idx)+\"_sample\"+str(sample_idx)+\".txt\")\n",
    "    with open(\"/home/jmshin/FedBalancer_realexperiment/dataprocess/har_raw/user\"+str(user_idx)+\"_train.txt\",\"w\") as f:\n",
    "            f.write('\\n'.join(user_samples_location_text))\n",
    "            f.close()"
   ]
  },
  {
   "cell_type": "markdown",
   "metadata": {},
   "source": [
    "# har_raw train data generation for MNN"
   ]
  },
  {
   "cell_type": "code",
   "execution_count": 18,
   "metadata": {},
   "outputs": [],
   "source": [
    "label = np.array(trn['user_data']['1']['y'])\n",
    "# idx2numpy.convert_to_file('test_1.idx', label)\n",
    "\n",
    "f = open('test_1.idx', 'wb')\n",
    "idx2numpy.convert_to_file(f,ndarr)"
   ]
  },
  {
   "cell_type": "code",
   "execution_count": 10,
   "metadata": {},
   "outputs": [],
   "source": [
    "ndarr = idx2numpy.convert_from_file('train-labels-idx1-ubyte')"
   ]
  },
  {
   "cell_type": "code",
   "execution_count": 16,
   "metadata": {},
   "outputs": [
    {
     "data": {
      "text/plain": [
       "numpy.ndarray"
      ]
     },
     "execution_count": 16,
     "metadata": {},
     "output_type": "execute_result"
    }
   ],
   "source": [
    "type(ndarr)"
   ]
  },
  {
   "cell_type": "code",
   "execution_count": 20,
   "metadata": {},
   "outputs": [
    {
     "ename": "FormatError",
     "evalue": "Incorrect first two bytes of the magic number: 0x04 0x00",
     "output_type": "error",
     "traceback": [
      "\u001b[0;31m---------------------------------------------------------------------------\u001b[0m",
      "\u001b[0;31mFormatError\u001b[0m                               Traceback (most recent call last)",
      "\u001b[0;32m/tmp/ipykernel_1496000/420659685.py\u001b[0m in \u001b[0;36m<module>\u001b[0;34m\u001b[0m\n\u001b[0;32m----> 1\u001b[0;31m \u001b[0midx2numpy\u001b[0m\u001b[0;34m.\u001b[0m\u001b[0mconvert_from_string\u001b[0m\u001b[0;34m(\u001b[0m\u001b[0mlabel\u001b[0m\u001b[0;34m)\u001b[0m\u001b[0;34m\u001b[0m\u001b[0;34m\u001b[0m\u001b[0m\n\u001b[0m",
      "\u001b[0;32m~/.pyenv/versions/3.7.12/envs/flower-3.7.12/lib/python3.7/site-packages/idx2numpy/converters.py\u001b[0m in \u001b[0;36mconvert_from_string\u001b[0;34m(idx_string)\u001b[0m\n\u001b[1;32m     66\u001b[0m     \"\"\"\n\u001b[1;32m     67\u001b[0m     \u001b[0;32mwith\u001b[0m \u001b[0mcontextlib\u001b[0m\u001b[0;34m.\u001b[0m\u001b[0mclosing\u001b[0m\u001b[0;34m(\u001b[0m\u001b[0mBytesIO\u001b[0m\u001b[0;34m(\u001b[0m\u001b[0midx_string\u001b[0m\u001b[0;34m)\u001b[0m\u001b[0;34m)\u001b[0m \u001b[0;32mas\u001b[0m \u001b[0msio\u001b[0m\u001b[0;34m:\u001b[0m\u001b[0;34m\u001b[0m\u001b[0;34m\u001b[0m\u001b[0m\n\u001b[0;32m---> 68\u001b[0;31m         \u001b[0;32mreturn\u001b[0m \u001b[0m_internal_convert\u001b[0m\u001b[0;34m(\u001b[0m\u001b[0msio\u001b[0m\u001b[0;34m)\u001b[0m\u001b[0;34m\u001b[0m\u001b[0;34m\u001b[0m\u001b[0m\n\u001b[0m\u001b[1;32m     69\u001b[0m \u001b[0;34m\u001b[0m\u001b[0m\n\u001b[1;32m     70\u001b[0m \u001b[0;34m\u001b[0m\u001b[0m\n",
      "\u001b[0;32m~/.pyenv/versions/3.7.12/envs/flower-3.7.12/lib/python3.7/site-packages/idx2numpy/converters.py\u001b[0m in \u001b[0;36m_internal_convert\u001b[0;34m(inp)\u001b[0m\n\u001b[1;32m     89\u001b[0m         msg = (\"Incorrect first two bytes of the magic number: \" +\n\u001b[1;32m     90\u001b[0m                \"0x{0:02X} 0x{1:02X}\".format(mn[0], mn[1]))\n\u001b[0;32m---> 91\u001b[0;31m         \u001b[0;32mraise\u001b[0m \u001b[0mFormatError\u001b[0m\u001b[0;34m(\u001b[0m\u001b[0mmsg\u001b[0m\u001b[0;34m)\u001b[0m\u001b[0;34m\u001b[0m\u001b[0;34m\u001b[0m\u001b[0m\n\u001b[0m\u001b[1;32m     92\u001b[0m \u001b[0;34m\u001b[0m\u001b[0m\n\u001b[1;32m     93\u001b[0m     \u001b[0;31m# 3rd byte is the data type code.\u001b[0m\u001b[0;34m\u001b[0m\u001b[0;34m\u001b[0m\u001b[0;34m\u001b[0m\u001b[0m\n",
      "\u001b[0;31mFormatError\u001b[0m: Incorrect first two bytes of the magic number: 0x04 0x00"
     ]
    }
   ],
   "source": [
    "idx2numpy.convert_to_file(label)"
   ]
  },
  {
   "cell_type": "code",
   "execution_count": 58,
   "metadata": {},
   "outputs": [],
   "source": [
    "data = np.array(trn['user_data']['1']['x'][1])"
   ]
  },
  {
   "cell_type": "code",
   "execution_count": 59,
   "metadata": {},
   "outputs": [],
   "source": [
    "f = open('u0_x', 'wb')\n",
    "data.tofile(f)\n",
    "f.close()"
   ]
  },
  {
   "cell_type": "code",
   "execution_count": 60,
   "metadata": {},
   "outputs": [
    {
     "data": {
      "text/plain": [
       "1152"
      ]
     },
     "execution_count": 60,
     "metadata": {},
     "output_type": "execute_result"
    }
   ],
   "source": [
    "len(data)"
   ]
  },
  {
   "cell_type": "code",
   "execution_count": 61,
   "metadata": {},
   "outputs": [
    {
     "data": {
      "text/plain": [
       "array([ 1.018851  , -0.123976  ,  0.09792958, ..., -0.03864973,\n",
       "       -0.0094402 , -0.00279782])"
      ]
     },
     "execution_count": 61,
     "metadata": {},
     "output_type": "execute_result"
    }
   ],
   "source": [
    "data"
   ]
  },
  {
   "cell_type": "code",
   "execution_count": 53,
   "metadata": {},
   "outputs": [
    {
     "name": "stdout",
     "output_type": "stream",
     "text": [
      "347\n",
      "341\n",
      "302\n",
      "325\n",
      "308\n",
      "281\n",
      "316\n",
      "323\n",
      "328\n",
      "366\n",
      "368\n",
      "360\n",
      "408\n",
      "321\n",
      "372\n",
      "409\n",
      "392\n",
      "376\n",
      "382\n",
      "344\n",
      "383\n"
     ]
    }
   ],
   "source": [
    "for user_idx, trn_user in enumerate(trn['users']):\n",
    "    user_data = []\n",
    "    user_label = trn['user_data'][trn_user]['y']\n",
    "    \n",
    "    for user_sample in trn['user_data'][trn_user]['x']:\n",
    "        user_data += user_sample\n",
    "    \n",
    "    user_data = np.array(user_data)\n",
    "    user_label = np.array(user_label, dtype='int8')\n",
    "    \n",
    "    f = open('u'+str(user_idx)+'_x', 'wb')\n",
    "    user_data.tofile(f)\n",
    "    f.close()\n",
    "    \n",
    "    f = open('u'+str(user_idx)+'_y', 'wb')\n",
    "    user_label.tofile(f)\n",
    "    f.close()\n",
    "    \n",
    "    print(len(user_label))"
   ]
  },
  {
   "cell_type": "markdown",
   "metadata": {},
   "source": [
    "# har_raw train data generation for PyTorch MNN"
   ]
  },
  {
   "cell_type": "code",
   "execution_count": 76,
   "metadata": {},
   "outputs": [
    {
     "data": {
      "text/plain": [
       "['1',\n",
       " '3',\n",
       " '5',\n",
       " '6',\n",
       " '7',\n",
       " '8',\n",
       " '11',\n",
       " '14',\n",
       " '15',\n",
       " '16',\n",
       " '17',\n",
       " '19',\n",
       " '21',\n",
       " '22',\n",
       " '23',\n",
       " '25',\n",
       " '26',\n",
       " '27',\n",
       " '28',\n",
       " '29',\n",
       " '30']"
      ]
     },
     "execution_count": 76,
     "metadata": {},
     "output_type": "execute_result"
    }
   ],
   "source": [
    "trn['users']"
   ]
  },
  {
   "cell_type": "code",
   "execution_count": 71,
   "metadata": {},
   "outputs": [
    {
     "name": "stdout",
     "output_type": "stream",
     "text": [
      "347\n",
      "341\n",
      "302\n",
      "325\n",
      "308\n",
      "281\n",
      "316\n",
      "323\n",
      "328\n",
      "366\n",
      "368\n",
      "360\n",
      "408\n",
      "321\n",
      "372\n",
      "409\n",
      "392\n",
      "376\n",
      "382\n",
      "344\n",
      "383\n"
     ]
    }
   ],
   "source": [
    "for user_idx, trn_user in enumerate(trn['users']):\n",
    "    user_data = []\n",
    "    user_label = trn['user_data'][trn_user]['y']\n",
    "    \n",
    "    for user_sample in trn['user_data'][trn_user]['x']:\n",
    "        # user_data += user_sample\n",
    "        \n",
    "        for i in range(128):\n",
    "            for j in range(9):\n",
    "                user_data.append(user_sample[i+j*128])\n",
    "    \n",
    "    user_data = np.array(user_data)\n",
    "    user_label = np.array(user_label, dtype='int8')\n",
    "    \n",
    "    f = open('pytorch/u'+str(user_idx)+'_x', 'wb')\n",
    "    user_data.tofile(f)\n",
    "    f.close()\n",
    "    \n",
    "    f = open('pytorch/u'+str(user_idx)+'_y', 'wb')\n",
    "    user_label.tofile(f)\n",
    "    f.close()\n",
    "    \n",
    "    print(len(user_label))"
   ]
  },
  {
   "cell_type": "code",
   "execution_count": 67,
   "metadata": {},
   "outputs": [
    {
     "data": {
      "text/plain": [
       "1152"
      ]
     },
     "execution_count": 67,
     "metadata": {},
     "output_type": "execute_result"
    }
   ],
   "source": [
    "len(trn['user_data']['1']['x'][0])"
   ]
  },
  {
   "cell_type": "markdown",
   "metadata": {},
   "source": [
    "# server side train data load testing"
   ]
  },
  {
   "cell_type": "code",
   "execution_count": 73,
   "metadata": {},
   "outputs": [],
   "source": [
    "from collections import defaultdict\n",
    "def read_dir(data_dir):\n",
    "    clients = []\n",
    "    groups = []\n",
    "    data = defaultdict(lambda : None)\n",
    "\n",
    "    files = os.listdir(data_dir)\n",
    "    files = [f for f in files if f.endswith('.json')]\n",
    "    for f in files:\n",
    "        file_path = os.path.join(data_dir,f)\n",
    "        with open(file_path, 'r') as inf:\n",
    "            cdata = json.load(inf)\n",
    "        clients.extend(cdata['users'])\n",
    "        if 'hierarchies' in cdata:\n",
    "            groups.extend(cdata['hierarchies'])\n",
    "        data.update(cdata['user_data'])\n",
    "\n",
    "    clients = list(sorted(data.keys()))\n",
    "    return clients, groups, data"
   ]
  },
  {
   "cell_type": "code",
   "execution_count": 83,
   "metadata": {},
   "outputs": [],
   "source": [
    "train_clients, train_groups, train_data = read_dir('/mnt/sting/jmshin/FedBalancer/FLASH_jm/data/har_raw/data/train/')"
   ]
  },
  {
   "cell_type": "code",
   "execution_count": 84,
   "metadata": {},
   "outputs": [],
   "source": [
    "clients_id_to_device_id = {}\n",
    "clients_id_to_device_id[0] = '1'\n",
    "clients_id_to_device_id[1] = '3'\n",
    "clients_id_to_device_id[2] = '5'\n",
    "clients_id_to_device_id[3] = '6'\n",
    "clients_id_to_device_id[4] = '7'\n",
    "clients_id_to_device_id[5] = '8'\n",
    "clients_id_to_device_id[6] = '11'\n",
    "clients_id_to_device_id[7] = '14'\n",
    "clients_id_to_device_id[8] = '15'\n",
    "clients_id_to_device_id[9] = '16'\n",
    "clients_id_to_device_id[10] = '17'\n",
    "clients_id_to_device_id[11] = '19'\n",
    "clients_id_to_device_id[12] = '21'\n",
    "clients_id_to_device_id[13] = '22'\n",
    "clients_id_to_device_id[14] = '23'\n",
    "clients_id_to_device_id[15] = '25'\n",
    "clients_id_to_device_id[16] = '26'\n",
    "clients_id_to_device_id[17] = '27'\n",
    "clients_id_to_device_id[18] = '28'\n",
    "clients_id_to_device_id[19] = '29'\n",
    "clients_id_to_device_id[20] = '30'"
   ]
  },
  {
   "cell_type": "code",
   "execution_count": 85,
   "metadata": {},
   "outputs": [
    {
     "data": {
      "text/plain": [
       "((347, 1152), (347, 1))"
      ]
     },
     "execution_count": 85,
     "metadata": {},
     "output_type": "execute_result"
    }
   ],
   "source": [
    "x_train = np.array(train_data[clients_id_to_device_id[0]]['x'])\n",
    "y_train = np.array(train_data[clients_id_to_device_id[0]]['y']).reshape(-1,1)\n",
    "x_train.shape, y_train.shape"
   ]
  },
  {
   "cell_type": "code",
   "execution_count": 87,
   "metadata": {},
   "outputs": [
    {
     "data": {
      "text/plain": [
       "((2947, 1152), (2947, 1))"
      ]
     },
     "execution_count": 87,
     "metadata": {},
     "output_type": "execute_result"
    }
   ],
   "source": [
    "test_f = open('/mnt/sting/jmshin/FedBalancer/FLASH_jm/data/har_raw/data/test/test_raw_har.json')\n",
    "test = json.load(test_f)\n",
    "x_test = np.array(test['user_data']['testuser_1']['x'])\n",
    "y_test = np.array(test['user_data']['testuser_1']['y']).reshape(-1,1)\n",
    "x_test.shape, y_test.shape"
   ]
  },
  {
   "cell_type": "markdown",
   "metadata": {},
   "source": [
    "# model testing"
   ]
  },
  {
   "cell_type": "code",
   "execution_count": 96,
   "metadata": {},
   "outputs": [
    {
     "data": {
      "text/plain": [
       "<KerasTensor: shape=(None, 32, 192) dtype=float32 (created by layer 'max_pooling1d_1')>"
      ]
     },
     "execution_count": 96,
     "metadata": {},
     "output_type": "execute_result"
    }
   ],
   "source": [
    "inputs = tf.keras.Input(shape=(1152,), name=\"digits\")\n",
    "x = tf.keras.layers.Reshape((128,9))(inputs)\n",
    "x = tf.keras.layers.Conv1D(192, 16, activation=\"relu\", padding=\"same\")(x)\n",
    "x = tf.keras.layers.MaxPooling1D(pool_size=4)(x)\n",
    "x"
   ]
  },
  {
   "cell_type": "code",
   "execution_count": null,
   "metadata": {},
   "outputs": [],
   "source": []
  }
 ],
 "metadata": {
  "kernelspec": {
   "display_name": "Python 3",
   "language": "python",
   "name": "python3"
  },
  "language_info": {
   "codemirror_mode": {
    "name": "ipython",
    "version": 3
   },
   "file_extension": ".py",
   "mimetype": "text/x-python",
   "name": "python",
   "nbconvert_exporter": "python",
   "pygments_lexer": "ipython3",
   "version": "3.8.10"
  }
 },
 "nbformat": 4,
 "nbformat_minor": 5
}
